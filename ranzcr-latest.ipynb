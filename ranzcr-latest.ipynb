{
 "cells": [
  {
   "cell_type": "code",
   "execution_count": 1,
   "metadata": {
    "_cell_guid": "b1076dfc-b9ad-4769-8c92-a6c4dae69d19",
    "_uuid": "8f2839f25d086af736a60e9eeb907d3b93b6e0e5",
    "execution": {
     "iopub.execute_input": "2023-04-05T05:09:07.986085Z",
     "iopub.status.busy": "2023-04-05T05:09:07.985345Z",
     "iopub.status.idle": "2023-04-05T05:09:16.862088Z",
     "shell.execute_reply": "2023-04-05T05:09:16.860874Z",
     "shell.execute_reply.started": "2023-04-05T05:09:07.986046Z"
    }
   },
   "outputs": [],
   "source": [
    "import os\n",
    "\n",
    "import numpy as np\n",
    "import pandas as pd\n",
    "\n",
    "from sklearn.model_selection import train_test_split\n",
    "import tensorflow as tf\n",
    "import tensorflow.keras.applications.efficientnet as efn"
   ]
  },
  {
   "cell_type": "markdown",
   "metadata": {},
   "source": [
    "## Helper functions"
   ]
  },
  {
   "cell_type": "markdown",
   "metadata": {},
   "source": [
    "The following functions are hidden:\n",
    "```python\n",
    "auto_select_accelerator()\n",
    "\n",
    "build_decoder(with_labels=True, target_size=(256, 256), ext='jpg')\n",
    "\n",
    "build_augmenter(with_labels=True)\n",
    "\n",
    "build_dataset(paths, labels=None, bsize=32, cache=True,\n",
    "              decode_fn=None, augment_fn=None,\n",
    "              augment=True, repeat=True, shuffle=1024, \n",
    "              cache_dir=\"\")\n",
    "```\n",
    "\n",
    "Unhide below to see:"
   ]
  },
  {
   "cell_type": "code",
   "execution_count": 2,
   "metadata": {
    "scrolled": true
   },
   "outputs": [
    {
     "data": {
      "text/plain": [
       "[PhysicalDevice(name='/physical_device:GPU:0', device_type='GPU')]"
      ]
     },
     "execution_count": 2,
     "metadata": {},
     "output_type": "execute_result"
    }
   ],
   "source": [
    "import tensorflow as tf\n",
    "tf.config.list_physical_devices('GPU')"
   ]
  },
  {
   "cell_type": "code",
   "execution_count": 3,
   "metadata": {
    "_cell_guid": "79c7e3d0-c299-4dcb-8224-4455121ee9b0",
    "_kg_hide-input": true,
    "_uuid": "d629ff2d2480ee46fbb7e2d37f6b5fab8052498a",
    "execution": {
     "iopub.execute_input": "2023-04-05T05:09:16.865444Z",
     "iopub.status.busy": "2023-04-05T05:09:16.864656Z",
     "iopub.status.idle": "2023-04-05T05:09:16.880579Z",
     "shell.execute_reply": "2023-04-05T05:09:16.878807Z",
     "shell.execute_reply.started": "2023-04-05T05:09:16.865405Z"
    }
   },
   "outputs": [],
   "source": [
    "import tensorflow as tf\n",
    "\n",
    "def auto_select_accelerator():\n",
    "    # Check if GPU is available\n",
    "    gpus = tf.config.list_physical_devices('GPU')\n",
    "    if gpus:\n",
    "        try:\n",
    "            # Enable GPU memory growth to avoid allocating all GPU memory at once\n",
    "            for gpu in gpus:\n",
    "                tf.config.experimental.set_memory_growth(gpu, True)\n",
    "\n",
    "            strategy = tf.distribute.OneDeviceStrategy(device=\"/GPU:0\")\n",
    "            print(\"Running on GPU\")\n",
    "        except RuntimeError as e:\n",
    "            print(e)\n",
    "            strategy = tf.distribute.get_strategy()\n",
    "    else:\n",
    "        strategy = tf.distribute.get_strategy()\n",
    "        print(\"Running on CPU\")\n",
    "\n",
    "    print(f\"Running on {strategy.num_replicas_in_sync} replicas\")\n",
    "    return strategy\n",
    "\n",
    "\n",
    "def build_decoder(with_labels=True, target_size=(300, 300), ext='jpg'):\n",
    "    def decode(path):\n",
    "        file_bytes = tf.io.read_file(path)\n",
    "        if ext == 'png':\n",
    "            img = tf.image.decode_png(file_bytes, channels=3)\n",
    "        elif ext in ['jpg', 'jpeg']:\n",
    "            img = tf.image.decode_jpeg(file_bytes, channels=3)\n",
    "        else:\n",
    "            raise ValueError(\"Image extension not supported\")\n",
    "\n",
    "        img = tf.cast(img, tf.float32) / 255.0\n",
    "        img = tf.image.resize(img, target_size)\n",
    "\n",
    "        return img\n",
    "    \n",
    "    def decode_with_labels(path, label):\n",
    "        return decode(path), label\n",
    "    \n",
    "    return decode_with_labels if with_labels else decode\n",
    "\n",
    "\n",
    "def build_augmenter(with_labels=True):\n",
    "    def augment(img):\n",
    "        img = tf.image.random_flip_left_right(img)\n",
    "        img = tf.image.random_flip_up_down(img)\n",
    "        return img\n",
    "    \n",
    "    def augment_with_labels(img, label):\n",
    "        return augment(img), label\n",
    "    \n",
    "    return augment_with_labels if with_labels else augment\n",
    "\n",
    "\n",
    "def build_dataset(paths, labels=None, bsize=32, cache=True,\n",
    "                  decode_fn=None, augment_fn=None,\n",
    "                  augment=True, repeat=True, shuffle=1024, \n",
    "                  cache_dir=\"\"):\n",
    "    if cache_dir != \"\" and cache is True:\n",
    "        os.makedirs(cache_dir, exist_ok=True)\n",
    "    \n",
    "    if decode_fn is None:\n",
    "        decode_fn = build_decoder(labels is not None)\n",
    "    \n",
    "    if augment_fn is None:\n",
    "        augment_fn = build_augmenter(labels is not None)\n",
    "    \n",
    "    AUTO = tf.data.experimental.AUTOTUNE\n",
    "    slices = paths if labels is None else (paths, labels)\n",
    "    \n",
    "    dset = tf.data.Dataset.from_tensor_slices(slices)\n",
    "    dset = dset.map(decode_fn, num_parallel_calls=AUTO)\n",
    "    dset = dset.cache(cache_dir) if cache else dset\n",
    "    dset = dset.map(augment_fn, num_parallel_calls=AUTO) if augment else dset\n",
    "    dset = dset.repeat() if repeat else dset\n",
    "    dset = dset.shuffle(shuffle) if shuffle else dset\n",
    "    dset = dset.batch(bsize).prefetch(AUTO)\n",
    "    \n",
    "    return dset"
   ]
  },
  {
   "cell_type": "markdown",
   "metadata": {},
   "source": [
    "## Variables and configurations"
   ]
  },
  {
   "cell_type": "code",
   "execution_count": 4,
   "metadata": {
    "execution": {
     "iopub.execute_input": "2023-04-05T05:09:16.883210Z",
     "iopub.status.busy": "2023-04-05T05:09:16.882466Z",
     "iopub.status.idle": "2023-04-05T05:09:16.905950Z",
     "shell.execute_reply": "2023-04-05T05:09:16.904689Z",
     "shell.execute_reply.started": "2023-04-05T05:09:16.883173Z"
    }
   },
   "outputs": [
    {
     "name": "stdout",
     "output_type": "stream",
     "text": [
      "Running on GPU\n",
      "Running on 1 replicas\n"
     ]
    }
   ],
   "source": [
    "COMPETITION_NAME = \"ranzcr-clip-catheter-line-classification\"\n",
    "strategy = auto_select_accelerator()\n",
    "BATCH_SIZE = strategy.num_replicas_in_sync * 16\n",
    "#GCS_DS_PATH = KaggleDatasets().get_gcs_path(COMPETITION_NAME)"
   ]
  },
  {
   "cell_type": "markdown",
   "metadata": {},
   "source": [
    "## Preparing dataset"
   ]
  },
  {
   "cell_type": "markdown",
   "metadata": {},
   "source": [
    "### Loading and preprocess CSVs"
   ]
  },
  {
   "cell_type": "code",
   "execution_count": 5,
   "metadata": {
    "execution": {
     "iopub.execute_input": "2023-04-05T05:09:16.909653Z",
     "iopub.status.busy": "2023-04-05T05:09:16.909308Z",
     "iopub.status.idle": "2023-04-05T05:09:17.058021Z",
     "shell.execute_reply": "2023-04-05T05:09:17.056978Z",
     "shell.execute_reply.started": "2023-04-05T05:09:16.909619Z"
    }
   },
   "outputs": [],
   "source": [
    "########################### GPU ##########################\n",
    "load_dir = f\"C:/Users/srika/Dropbox/PC/Downloads/{COMPETITION_NAME}/\"\n",
    "df = pd.read_csv(load_dir + 'train.csv')\n",
    "paths = load_dir + \"train/\" + df['StudyInstanceUID'] + '.jpg'\n",
    "\n",
    "sub_df = pd.read_csv(load_dir + 'sample_submission.csv')\n",
    "test_paths = load_dir + \"test/\" + sub_df['StudyInstanceUID'] + '.jpg'\n",
    "\n",
    "# Get the multi-labels\n",
    "label_cols = sub_df.columns[1:]\n",
    "labels = df[label_cols].values"
   ]
  },
  {
   "cell_type": "code",
   "execution_count": 6,
   "metadata": {
    "execution": {
     "iopub.execute_input": "2023-04-05T05:09:17.060724Z",
     "iopub.status.busy": "2023-04-05T05:09:17.059896Z",
     "iopub.status.idle": "2023-04-05T05:09:17.066476Z",
     "shell.execute_reply": "2023-04-05T05:09:17.065306Z",
     "shell.execute_reply.started": "2023-04-05T05:09:17.060659Z"
    }
   },
   "outputs": [],
   "source": []
  },
  {
   "cell_type": "code",
   "execution_count": 7,
   "metadata": {
    "execution": {
     "iopub.execute_input": "2023-04-05T05:09:17.068614Z",
     "iopub.status.busy": "2023-04-05T05:09:17.068141Z",
     "iopub.status.idle": "2023-04-05T05:09:17.079973Z",
     "shell.execute_reply": "2023-04-05T05:09:17.078977Z",
     "shell.execute_reply.started": "2023-04-05T05:09:17.068578Z"
    }
   },
   "outputs": [
    {
     "data": {
      "text/plain": [
       "30083"
      ]
     },
     "execution_count": 7,
     "metadata": {},
     "output_type": "execute_result"
    }
   ],
   "source": [
    "\n",
    "len(paths)"
   ]
  },
  {
   "cell_type": "code",
   "execution_count": 8,
   "metadata": {
    "execution": {
     "iopub.execute_input": "2023-04-05T05:09:17.081868Z",
     "iopub.status.busy": "2023-04-05T05:09:17.081365Z",
     "iopub.status.idle": "2023-04-05T05:09:17.098645Z",
     "shell.execute_reply": "2023-04-05T05:09:17.097584Z",
     "shell.execute_reply.started": "2023-04-05T05:09:17.081832Z"
    }
   },
   "outputs": [],
   "source": [
    "# Train test split\n",
    "(\n",
    "    train_paths, valid_paths, \n",
    "    train_labels, valid_labels\n",
    ") = train_test_split(paths, labels, test_size=0.2, random_state=42)"
   ]
  },
  {
   "cell_type": "code",
   "execution_count": 9,
   "metadata": {
    "execution": {
     "iopub.execute_input": "2023-04-05T05:09:17.101096Z",
     "iopub.status.busy": "2023-04-05T05:09:17.100321Z",
     "iopub.status.idle": "2023-04-05T05:09:20.194174Z",
     "shell.execute_reply": "2023-04-05T05:09:20.193253Z",
     "shell.execute_reply.started": "2023-04-05T05:09:17.101060Z"
    }
   },
   "outputs": [],
   "source": [
    "# Build the tensorflow datasets\n",
    "IMSIZES = (224, 240, 260, 300, 320,340,480, 528, 600)\n",
    "# index i corresponds to b-i\n",
    "size = IMSIZES[0]\n",
    "\n",
    "decoder = build_decoder(with_labels=True, target_size=(size, size))\n",
    "test_decoder = build_decoder(with_labels=False, target_size=(size, size))\n",
    "\n",
    "# Build the tensorflow datasets\n",
    "dtrain = build_dataset(\n",
    "    train_paths, train_labels, bsize=BATCH_SIZE, \n",
    "    cache_dir='C:/Users/srika/Dropbox/PC/Downloads/{COMPETITION_NAME}/tf_cache', decode_fn=decoder\n",
    ")\n",
    "\n",
    "dvalid = build_dataset(\n",
    "    valid_paths, valid_labels, bsize=BATCH_SIZE, \n",
    "    repeat=False, shuffle=False, augment=False, \n",
    "    cache_dir='C:/Users/srika/Dropbox/PC/Downloads/{COMPETITION_NAME}/tf_cache', decode_fn=decoder\n",
    ")\n",
    "\n",
    "dtest = build_dataset(\n",
    "    test_paths, bsize=BATCH_SIZE, repeat=False, \n",
    "    shuffle=False, augment=False, cache=False, \n",
    "    decode_fn=test_decoder\n",
    ")"
   ]
  },
  {
   "cell_type": "code",
   "execution_count": 10,
   "metadata": {},
   "outputs": [
    {
     "data": {
      "text/plain": [
       "224"
      ]
     },
     "execution_count": 10,
     "metadata": {},
     "output_type": "execute_result"
    }
   ],
   "source": [
    "size"
   ]
  },
  {
   "cell_type": "markdown",
   "metadata": {},
   "source": [
    "## Modeling"
   ]
  },
  {
   "cell_type": "code",
   "execution_count": null,
   "metadata": {},
   "outputs": [],
   "source": []
  },
  {
   "cell_type": "code",
   "execution_count": 11,
   "metadata": {
    "execution": {
     "iopub.execute_input": "2023-04-05T05:09:20.196605Z",
     "iopub.status.busy": "2023-04-05T05:09:20.195862Z",
     "iopub.status.idle": "2023-04-05T05:09:20.202478Z",
     "shell.execute_reply": "2023-04-05T05:09:20.201096Z",
     "shell.execute_reply.started": "2023-04-05T05:09:20.196565Z"
    }
   },
   "outputs": [],
   "source": []
  },
  {
   "cell_type": "code",
   "execution_count": 15,
   "metadata": {
    "execution": {
     "iopub.execute_input": "2023-04-05T05:09:20.207617Z",
     "iopub.status.busy": "2023-04-05T05:09:20.206704Z",
     "iopub.status.idle": "2023-04-05T05:09:25.408841Z",
     "shell.execute_reply": "2023-04-05T05:09:25.407872Z",
     "shell.execute_reply.started": "2023-04-05T05:09:20.207588Z"
    }
   },
   "outputs": [
    {
     "name": "stdout",
     "output_type": "stream",
     "text": [
      "Model: \"sequential_2\"\n",
      "_________________________________________________________________\n",
      " Layer (type)                Output Shape              Param #   \n",
      "=================================================================\n",
      " xception (Functional)       (None, 7, 7, 2048)        20861480  \n",
      "                                                                 \n",
      " global_average_pooling2d_1   (None, 2048)             0         \n",
      " (GlobalAveragePooling2D)                                        \n",
      "                                                                 \n",
      " dense_1 (Dense)             (None, 11)                22539     \n",
      "                                                                 \n",
      "=================================================================\n",
      "Total params: 20,884,019\n",
      "Trainable params: 20,829,491\n",
      "Non-trainable params: 54,528\n",
      "_________________________________________________________________\n"
     ]
    }
   ],
   "source": [
    "n_labels = labels.shape[1]\n",
    "\n",
    "with strategy.scope():\n",
    "    model_Xception= tf.keras.Sequential([\n",
    "        tf.keras.applications.Xception(\n",
    "            input_shape=(size, size, 3),\n",
    "            weights='imagenet',\n",
    "            include_top=False,\n",
    "        ),\n",
    "        tf.keras.layers.GlobalAveragePooling2D(),\n",
    "        tf.keras.layers.Dense(n_labels, activation='sigmoid')\n",
    "    ])\n",
    "    model_Xception.compile(\n",
    "        optimizer='adam',\n",
    "        loss='binary_crossentropy',\n",
    "        metrics=[tf.keras.metrics.AUC(multi_label=True)])\n",
    "    model_Xception.summary()"
   ]
  },
  {
   "cell_type": "code",
   "execution_count": 13,
   "metadata": {
    "execution": {
     "iopub.execute_input": "2023-04-05T05:09:25.410772Z",
     "iopub.status.busy": "2023-04-05T05:09:25.410431Z",
     "iopub.status.idle": "2023-04-05T05:09:25.417190Z",
     "shell.execute_reply": "2023-04-05T05:09:25.415783Z",
     "shell.execute_reply.started": "2023-04-05T05:09:25.410735Z"
    }
   },
   "outputs": [],
   "source": [
    "steps_per_epoch = train_paths.shape[0] // BATCH_SIZE\n",
    "checkpoint = tf.keras.callbacks.ModelCheckpoint(\n",
    "    'modelcat.h5', save_best_only=True, monitor='val_auc', mode='max')\n",
    "lr_reducer = tf.keras.callbacks.ReduceLROnPlateau(\n",
    "    monitor=\"val_auc\", patience=3, min_lr=1e-6, mode='max')"
   ]
  },
  {
   "cell_type": "code",
   "execution_count": 20,
   "metadata": {
    "execution": {
     "iopub.execute_input": "2023-04-05T05:09:25.419303Z",
     "iopub.status.busy": "2023-04-05T05:09:25.418947Z"
    }
   },
   "outputs": [
    {
     "name": "stdout",
     "output_type": "stream",
     "text": [
      "Epoch 1/5\n",
      "1504/1504 [==============================] - ETA: 0s - loss: 0.0714 - auc_1: 0.9821WARNING:tensorflow:Can save best model only with val_auc available, skipping.\n",
      "WARNING:tensorflow:Learning rate reduction is conditioned on metric `val_auc` which is not available. Available metrics are: loss,auc_1,val_loss,val_auc_1,lr\n",
      "1504/1504 [==============================] - 227s 150ms/step - loss: 0.0714 - auc_1: 0.9821 - val_loss: 0.0669 - val_auc_1: 0.9880 - lr: 0.0010\n",
      "Epoch 2/5\n",
      "1504/1504 [==============================] - ETA: 0s - loss: 0.0670 - auc_1: 0.9851WARNING:tensorflow:Can save best model only with val_auc available, skipping.\n",
      "WARNING:tensorflow:Learning rate reduction is conditioned on metric `val_auc` which is not available. Available metrics are: loss,auc_1,val_loss,val_auc_1,lr\n",
      "1504/1504 [==============================] - 253s 168ms/step - loss: 0.0670 - auc_1: 0.9851 - val_loss: 0.0722 - val_auc_1: 0.9858 - lr: 0.0010\n",
      "Epoch 3/5\n",
      "1504/1504 [==============================] - ETA: 0s - loss: 0.0654 - auc_1: 0.9858WARNING:tensorflow:Can save best model only with val_auc available, skipping.\n",
      "WARNING:tensorflow:Learning rate reduction is conditioned on metric `val_auc` which is not available. Available metrics are: loss,auc_1,val_loss,val_auc_1,lr\n",
      "1504/1504 [==============================] - 223s 149ms/step - loss: 0.0654 - auc_1: 0.9858 - val_loss: 0.0689 - val_auc_1: 0.9870 - lr: 0.0010\n",
      "Epoch 4/5\n",
      "1504/1504 [==============================] - ETA: 0s - loss: 0.0610 - auc_1: 0.9857WARNING:tensorflow:Can save best model only with val_auc available, skipping.\n",
      "WARNING:tensorflow:Learning rate reduction is conditioned on metric `val_auc` which is not available. Available metrics are: loss,auc_1,val_loss,val_auc_1,lr\n",
      "1504/1504 [==============================] - 223s 148ms/step - loss: 0.0610 - auc_1: 0.9857 - val_loss: 0.1754 - val_auc_1: 0.9531 - lr: 0.0010\n",
      "Epoch 5/5\n",
      "1504/1504 [==============================] - ETA: 0s - loss: 0.0577 - auc_1: 0.9902WARNING:tensorflow:Can save best model only with val_auc available, skipping.\n",
      "WARNING:tensorflow:Learning rate reduction is conditioned on metric `val_auc` which is not available. Available metrics are: loss,auc_1,val_loss,val_auc_1,lr\n",
      "1504/1504 [==============================] - 223s 148ms/step - loss: 0.0577 - auc_1: 0.9902 - val_loss: 0.0767 - val_auc_1: 0.9842 - lr: 0.0010\n"
     ]
    }
   ],
   "source": [
    "history = model_Xception.fit(\n",
    "    dtrain, \n",
    "    epochs=5,\n",
    "    verbose=1,\n",
    "    callbacks=[checkpoint, lr_reducer],\n",
    "    steps_per_epoch=steps_per_epoch,\n",
    "    validation_data=dvalid)"
   ]
  },
  {
   "cell_type": "code",
   "execution_count": 21,
   "metadata": {
    "execution": {
     "iopub.execute_input": "2023-04-05T09:42:50.373392Z",
     "iopub.status.busy": "2023-04-05T09:42:50.372817Z",
     "iopub.status.idle": "2023-04-05T09:42:51.218462Z",
     "shell.execute_reply": "2023-04-05T09:42:51.217418Z",
     "shell.execute_reply.started": "2023-04-05T09:42:50.373356Z"
    }
   },
   "outputs": [],
   "source": [
    "model_Xception.save('Xception_attention_full_data3.h5')"
   ]
  },
  {
   "cell_type": "code",
   "execution_count": 22,
   "metadata": {},
   "outputs": [
    {
     "name": "stdout",
     "output_type": "stream",
     "text": [
      "1/1 [==============================] - 1s 917ms/step\n",
      "1/1 [==============================] - 0s 123ms/step\n",
      "1/1 [==============================] - 0s 131ms/step\n",
      "1/1 [==============================] - 0s 116ms/step\n",
      "1/1 [==============================] - 0s 142ms/step\n",
      "1/1 [==============================] - 0s 137ms/step\n",
      "1/1 [==============================] - 0s 102ms/step\n",
      "1/1 [==============================] - 0s 76ms/step\n",
      "1/1 [==============================] - 0s 124ms/step\n",
      "1/1 [==============================] - 0s 215ms/step\n",
      "1/1 [==============================] - 0s 247ms/step\n",
      "1/1 [==============================] - 0s 146ms/step\n",
      "1/1 [==============================] - 0s 159ms/step\n",
      "1/1 [==============================] - 0s 207ms/step\n",
      "1/1 [==============================] - 0s 175ms/step\n",
      "1/1 [==============================] - 0s 163ms/step\n",
      "1/1 [==============================] - 0s 128ms/step\n",
      "1/1 [==============================] - 0s 139ms/step\n",
      "1/1 [==============================] - 0s 128ms/step\n",
      "1/1 [==============================] - 0s 140ms/step\n",
      "1/1 [==============================] - 0s 103ms/step\n",
      "1/1 [==============================] - 0s 169ms/step\n",
      "1/1 [==============================] - 0s 171ms/step\n",
      "1/1 [==============================] - 0s 130ms/step\n",
      "1/1 [==============================] - 0s 169ms/step\n",
      "1/1 [==============================] - 0s 118ms/step\n",
      "1/1 [==============================] - 0s 189ms/step\n",
      "1/1 [==============================] - 0s 105ms/step\n",
      "1/1 [==============================] - 0s 112ms/step\n",
      "1/1 [==============================] - 0s 102ms/step\n",
      "1/1 [==============================] - 0s 102ms/step\n",
      "1/1 [==============================] - 0s 126ms/step\n",
      "1/1 [==============================] - 0s 92ms/step\n",
      "1/1 [==============================] - 0s 167ms/step\n",
      "1/1 [==============================] - 0s 113ms/step\n",
      "1/1 [==============================] - 0s 219ms/step\n",
      "1/1 [==============================] - 0s 197ms/step\n",
      "1/1 [==============================] - 0s 146ms/step\n",
      "1/1 [==============================] - 0s 117ms/step\n",
      "1/1 [==============================] - 0s 183ms/step\n",
      "1/1 [==============================] - 0s 155ms/step\n",
      "1/1 [==============================] - 0s 191ms/step\n",
      "1/1 [==============================] - 0s 266ms/step\n",
      "1/1 [==============================] - 0s 200ms/step\n",
      "1/1 [==============================] - 0s 136ms/step\n",
      "1/1 [==============================] - 0s 181ms/step\n",
      "1/1 [==============================] - 0s 109ms/step\n",
      "1/1 [==============================] - 0s 118ms/step\n",
      "1/1 [==============================] - 0s 119ms/step\n",
      "1/1 [==============================] - 0s 73ms/step\n",
      "1/1 [==============================] - 0s 127ms/step\n",
      "1/1 [==============================] - 0s 132ms/step\n",
      "1/1 [==============================] - 0s 114ms/step\n",
      "1/1 [==============================] - 0s 107ms/step\n",
      "1/1 [==============================] - 0s 83ms/step\n",
      "1/1 [==============================] - 0s 86ms/step\n",
      "1/1 [==============================] - 0s 81ms/step\n",
      "1/1 [==============================] - 0s 272ms/step\n",
      "1/1 [==============================] - 0s 81ms/step\n",
      "1/1 [==============================] - 0s 58ms/step\n",
      "1/1 [==============================] - 0s 106ms/step\n",
      "1/1 [==============================] - 0s 74ms/step\n",
      "1/1 [==============================] - 0s 112ms/step\n",
      "1/1 [==============================] - 0s 111ms/step\n",
      "1/1 [==============================] - 0s 206ms/step\n",
      "1/1 [==============================] - 0s 121ms/step\n",
      "1/1 [==============================] - 0s 202ms/step\n",
      "1/1 [==============================] - 0s 281ms/step\n",
      "1/1 [==============================] - 0s 178ms/step\n",
      "1/1 [==============================] - 0s 146ms/step\n",
      "1/1 [==============================] - 0s 63ms/step\n",
      "1/1 [==============================] - 0s 155ms/step\n",
      "1/1 [==============================] - 0s 140ms/step\n",
      "1/1 [==============================] - 0s 118ms/step\n",
      "1/1 [==============================] - 0s 206ms/step\n",
      "1/1 [==============================] - 0s 159ms/step\n",
      "1/1 [==============================] - 0s 141ms/step\n",
      "1/1 [==============================] - 0s 158ms/step\n",
      "1/1 [==============================] - 0s 193ms/step\n",
      "1/1 [==============================] - 0s 227ms/step\n",
      "1/1 [==============================] - 0s 143ms/step\n",
      "1/1 [==============================] - 0s 126ms/step\n",
      "1/1 [==============================] - 0s 178ms/step\n",
      "1/1 [==============================] - 0s 78ms/step\n",
      "1/1 [==============================] - 0s 145ms/step\n",
      "1/1 [==============================] - 0s 121ms/step\n",
      "1/1 [==============================] - 0s 152ms/step\n",
      "1/1 [==============================] - 0s 176ms/step\n",
      "1/1 [==============================] - 0s 151ms/step\n",
      "1/1 [==============================] - 0s 97ms/step\n",
      "1/1 [==============================] - 0s 205ms/step\n",
      "1/1 [==============================] - 0s 108ms/step\n",
      "1/1 [==============================] - 0s 98ms/step\n",
      "1/1 [==============================] - 0s 133ms/step\n",
      "1/1 [==============================] - 0s 250ms/step\n",
      "1/1 [==============================] - 0s 103ms/step\n",
      "1/1 [==============================] - 0s 121ms/step\n",
      "1/1 [==============================] - 0s 107ms/step\n",
      "1/1 [==============================] - 0s 180ms/step\n",
      "1/1 [==============================] - 0s 82ms/step\n",
      "1/1 [==============================] - 0s 246ms/step\n",
      "1/1 [==============================] - 0s 69ms/step\n",
      "1/1 [==============================] - 0s 95ms/step\n",
      "1/1 [==============================] - 0s 93ms/step\n",
      "1/1 [==============================] - 0s 86ms/step\n",
      "1/1 [==============================] - 0s 129ms/step\n",
      "1/1 [==============================] - 0s 259ms/step\n",
      "1/1 [==============================] - 0s 238ms/step\n",
      "1/1 [==============================] - 0s 112ms/step\n",
      "1/1 [==============================] - 0s 187ms/step\n",
      "1/1 [==============================] - 0s 172ms/step\n",
      "1/1 [==============================] - 0s 257ms/step\n",
      "1/1 [==============================] - 0s 119ms/step\n",
      "1/1 [==============================] - 0s 281ms/step\n",
      "1/1 [==============================] - 0s 138ms/step\n",
      "1/1 [==============================] - 0s 132ms/step\n",
      "1/1 [==============================] - 0s 153ms/step\n",
      "1/1 [==============================] - 0s 194ms/step\n",
      "1/1 [==============================] - 0s 195ms/step\n",
      "1/1 [==============================] - 0s 204ms/step\n",
      "1/1 [==============================] - 0s 227ms/step\n",
      "1/1 [==============================] - 0s 121ms/step\n",
      "1/1 [==============================] - 0s 188ms/step\n",
      "1/1 [==============================] - 0s 133ms/step\n",
      "1/1 [==============================] - 0s 163ms/step\n",
      "1/1 [==============================] - 0s 162ms/step\n",
      "1/1 [==============================] - 0s 122ms/step\n",
      "1/1 [==============================] - 0s 62ms/step\n",
      "1/1 [==============================] - 0s 137ms/step\n",
      "1/1 [==============================] - 0s 113ms/step\n",
      "1/1 [==============================] - 0s 126ms/step\n",
      "1/1 [==============================] - 0s 226ms/step\n",
      "1/1 [==============================] - 0s 128ms/step\n",
      "1/1 [==============================] - 0s 143ms/step\n",
      "1/1 [==============================] - 0s 116ms/step\n",
      "1/1 [==============================] - 0s 76ms/step\n",
      "1/1 [==============================] - 0s 92ms/step\n",
      "1/1 [==============================] - 0s 155ms/step\n",
      "1/1 [==============================] - 0s 116ms/step\n",
      "1/1 [==============================] - 0s 147ms/step\n",
      "1/1 [==============================] - 0s 91ms/step\n",
      "1/1 [==============================] - 0s 116ms/step\n",
      "1/1 [==============================] - 0s 109ms/step\n",
      "1/1 [==============================] - 0s 162ms/step\n",
      "1/1 [==============================] - 0s 165ms/step\n",
      "1/1 [==============================] - 0s 88ms/step\n",
      "1/1 [==============================] - 0s 116ms/step\n",
      "1/1 [==============================] - 0s 88ms/step\n",
      "1/1 [==============================] - 0s 74ms/step\n",
      "1/1 [==============================] - 0s 120ms/step\n",
      "1/1 [==============================] - 0s 95ms/step\n",
      "1/1 [==============================] - 0s 135ms/step\n",
      "1/1 [==============================] - 0s 160ms/step\n",
      "1/1 [==============================] - 0s 136ms/step\n",
      "1/1 [==============================] - 0s 283ms/step\n"
     ]
    },
    {
     "name": "stdout",
     "output_type": "stream",
     "text": [
      "1/1 [==============================] - 0s 291ms/step\n",
      "1/1 [==============================] - 0s 141ms/step\n",
      "1/1 [==============================] - 0s 232ms/step\n",
      "1/1 [==============================] - 0s 248ms/step\n",
      "1/1 [==============================] - 0s 92ms/step\n",
      "1/1 [==============================] - 0s 153ms/step\n",
      "1/1 [==============================] - 0s 203ms/step\n",
      "1/1 [==============================] - 0s 145ms/step\n",
      "1/1 [==============================] - 0s 181ms/step\n",
      "1/1 [==============================] - 0s 150ms/step\n",
      "1/1 [==============================] - 0s 127ms/step\n",
      "1/1 [==============================] - 0s 148ms/step\n",
      "1/1 [==============================] - 0s 152ms/step\n",
      "1/1 [==============================] - 0s 143ms/step\n",
      "1/1 [==============================] - 0s 173ms/step\n",
      "1/1 [==============================] - 0s 116ms/step\n",
      "1/1 [==============================] - 0s 104ms/step\n",
      "1/1 [==============================] - 0s 126ms/step\n",
      "1/1 [==============================] - 0s 117ms/step\n",
      "1/1 [==============================] - 0s 190ms/step\n",
      "1/1 [==============================] - 0s 106ms/step\n",
      "1/1 [==============================] - 0s 119ms/step\n",
      "1/1 [==============================] - 0s 86ms/step\n",
      "1/1 [==============================] - 0s 126ms/step\n",
      "1/1 [==============================] - 0s 153ms/step\n",
      "1/1 [==============================] - 0s 116ms/step\n",
      "1/1 [==============================] - 0s 154ms/step\n",
      "1/1 [==============================] - 0s 122ms/step\n",
      "1/1 [==============================] - 0s 143ms/step\n",
      "1/1 [==============================] - 0s 134ms/step\n",
      "1/1 [==============================] - 0s 157ms/step\n",
      "1/1 [==============================] - 0s 128ms/step\n",
      "1/1 [==============================] - 0s 140ms/step\n",
      "1/1 [==============================] - 0s 157ms/step\n",
      "1/1 [==============================] - 0s 218ms/step\n",
      "1/1 [==============================] - 0s 209ms/step\n",
      "1/1 [==============================] - 0s 262ms/step\n",
      "1/1 [==============================] - 0s 160ms/step\n",
      "1/1 [==============================] - 0s 167ms/step\n",
      "1/1 [==============================] - 0s 93ms/step\n",
      "1/1 [==============================] - 0s 118ms/step\n",
      "1/1 [==============================] - 0s 210ms/step\n",
      "1/1 [==============================] - 0s 182ms/step\n",
      "1/1 [==============================] - 0s 127ms/step\n",
      "1/1 [==============================] - 0s 71ms/step\n",
      "1/1 [==============================] - 0s 99ms/step\n",
      "1/1 [==============================] - 0s 150ms/step\n",
      "1/1 [==============================] - 0s 248ms/step\n",
      "1/1 [==============================] - 0s 125ms/step\n",
      "1/1 [==============================] - 0s 158ms/step\n",
      "1/1 [==============================] - 0s 303ms/step\n",
      "1/1 [==============================] - 0s 127ms/step\n",
      "1/1 [==============================] - 0s 154ms/step\n",
      "1/1 [==============================] - 0s 186ms/step\n",
      "1/1 [==============================] - 0s 288ms/step\n",
      "1/1 [==============================] - 0s 117ms/step\n",
      "1/1 [==============================] - 0s 79ms/step\n",
      "1/1 [==============================] - 0s 137ms/step\n",
      "1/1 [==============================] - 0s 77ms/step\n",
      "1/1 [==============================] - 0s 306ms/step\n",
      "1/1 [==============================] - 0s 147ms/step\n",
      "1/1 [==============================] - 0s 196ms/step\n",
      "1/1 [==============================] - 0s 145ms/step\n",
      "1/1 [==============================] - 0s 126ms/step\n",
      "1/1 [==============================] - 0s 103ms/step\n",
      "1/1 [==============================] - 0s 113ms/step\n",
      "1/1 [==============================] - 0s 45ms/step\n",
      "1/1 [==============================] - 0s 46ms/step\n",
      "1/1 [==============================] - 0s 425ms/step\n"
     ]
    }
   ],
   "source": [
    "import numpy as np\n",
    "\n",
    "# Step 3: Predict using the model\n",
    "def predict_with_model(model, dataset):\n",
    "    # Create an empty list to store the predictions\n",
    "    predictions = []\n",
    "\n",
    "    # Iterate through the dataset and make predictions\n",
    "    for images in dataset:\n",
    "        batch_predictions = model.predict(images)\n",
    "        predictions.extend(batch_predictions)\n",
    "\n",
    "    # Convert predictions to numpy array\n",
    "    predictions = np.array(predictions)\n",
    "\n",
    "    return predictions\n",
    "\n",
    "# Make predictions using the model\n",
    "predictions = predict_with_model(model_Xception, dtest)\n",
    "\n",
    "# 'predictions' will contain the predicted probabilities for each class.\n",
    "# You can further process these probabilities to obtain the final predicted labels.\n"
   ]
  },
  {
   "cell_type": "code",
   "execution_count": 23,
   "metadata": {},
   "outputs": [
    {
     "data": {
      "text/plain": [
       "array([[9.1900546e-03, 5.8893460e-01, 2.2363214e-01, ..., 1.1929734e-01,\n",
       "        9.9552274e-01, 1.0000000e+00],\n",
       "       [1.0320927e-17, 2.4848697e-13, 3.4848852e-13, ..., 5.0613908e-03,\n",
       "        9.9920851e-01, 4.2300612e-12],\n",
       "       [7.7792578e-10, 1.5243602e-07, 2.9104194e-06, ..., 1.2869105e-01,\n",
       "        9.0024972e-01, 5.1007063e-08],\n",
       "       ...,\n",
       "       [1.2526871e-10, 3.6398564e-08, 1.5892835e-08, ..., 3.9421925e-03,\n",
       "        9.9835950e-01, 6.7103101e-10],\n",
       "       [3.3583422e-10, 1.7522881e-08, 3.9405879e-08, ..., 6.3838351e-01,\n",
       "        1.4633629e-01, 1.7702591e-06],\n",
       "       [2.4362098e-08, 3.0758048e-07, 5.4771458e-08, ..., 3.9290449e-01,\n",
       "        6.7803639e-01, 2.1696319e-03]], dtype=float32)"
      ]
     },
     "execution_count": 23,
     "metadata": {},
     "output_type": "execute_result"
    }
   ],
   "source": [
    "predictions"
   ]
  },
  {
   "cell_type": "code",
   "execution_count": 24,
   "metadata": {},
   "outputs": [],
   "source": [
    "import pandas as pd \n",
    "import numpy as np\n",
    "import os\n",
    "import tensorflow as tf\n"
   ]
  },
  {
   "cell_type": "code",
   "execution_count": 28,
   "metadata": {},
   "outputs": [
    {
     "name": "stderr",
     "output_type": "stream",
     "text": [
      "Traceback (most recent call last):\n",
      "  File \"C:\\Users\\srika\\anaconda3\\lib\\runpy.py\", line 197, in _run_module_as_main\n",
      "    return _run_code(code, main_globals, None,\n",
      "  File \"C:\\Users\\srika\\anaconda3\\lib\\runpy.py\", line 87, in _run_code\n",
      "    exec(code, run_globals)\n",
      "  File \"C:\\Users\\srika\\anaconda3\\Scripts\\streamlit.exe\\__main__.py\", line 4, in <module>\n",
      "  File \"C:\\Users\\srika\\anaconda3\\lib\\site-packages\\streamlit\\__init__.py\", line 55, in <module>\n",
      "    from streamlit.delta_generator import DeltaGenerator as _DeltaGenerator\n",
      "  File \"C:\\Users\\srika\\anaconda3\\lib\\site-packages\\streamlit\\delta_generator.py\", line 36, in <module>\n",
      "    from streamlit import config, cursor, env_util, logger, runtime, type_util, util\n",
      "  File \"C:\\Users\\srika\\anaconda3\\lib\\site-packages\\streamlit\\cursor.py\", line 18, in <module>\n",
      "    from streamlit.runtime.scriptrunner import get_script_run_ctx\n",
      "  File \"C:\\Users\\srika\\anaconda3\\lib\\site-packages\\streamlit\\runtime\\__init__.py\", line 16, in <module>\n",
      "    from streamlit.runtime.runtime import Runtime as Runtime\n",
      "  File \"C:\\Users\\srika\\anaconda3\\lib\\site-packages\\streamlit\\runtime\\runtime.py\", line 29, in <module>\n",
      "    from streamlit.proto.BackMsg_pb2 import BackMsg\n",
      "  File \"C:\\Users\\srika\\anaconda3\\lib\\site-packages\\streamlit\\proto\\BackMsg_pb2.py\", line 5, in <module>\n",
      "    from google.protobuf.internal import builder as _builder\n",
      "ImportError: cannot import name 'builder' from 'google.protobuf.internal' (C:\\Users\\srika\\anaconda3\\lib\\site-packages\\google\\protobuf\\internal\\__init__.py)\n"
     ]
    }
   ],
   "source": [
    "!streamlit run prod2.py"
   ]
  },
  {
   "cell_type": "code",
   "execution_count": null,
   "metadata": {},
   "outputs": [],
   "source": []
  }
 ],
 "metadata": {
  "kernelspec": {
   "display_name": "Python 3 (ipykernel)",
   "language": "python",
   "name": "python3"
  },
  "language_info": {
   "codemirror_mode": {
    "name": "ipython",
    "version": 3
   },
   "file_extension": ".py",
   "mimetype": "text/x-python",
   "name": "python",
   "nbconvert_exporter": "python",
   "pygments_lexer": "ipython3",
   "version": "3.9.19"
  }
 },
 "nbformat": 4,
 "nbformat_minor": 4
}
